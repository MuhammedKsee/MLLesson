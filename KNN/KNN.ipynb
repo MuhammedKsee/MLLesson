{
 "cells": [
  {
   "cell_type": "code",
   "execution_count": 1,
   "metadata": {},
   "outputs": [
    {
     "name": "stdout",
     "output_type": "stream",
     "text": [
      "   pelvic_incidence  pelvic_tilt numeric  lumbar_lordosis_angle  sacral_slope  \\\n",
      "0         63.027817            22.552586              39.609117     40.475232   \n",
      "1         39.056951            10.060991              25.015378     28.995960   \n",
      "2         68.832021            22.218482              50.092194     46.613539   \n",
      "3         69.297008            24.652878              44.311238     44.644130   \n",
      "4         49.712859             9.652075              28.317406     40.060784   \n",
      "\n",
      "   pelvic_radius  degree_spondylolisthesis     class  \n",
      "0      98.672917                 -0.254400  Abnormal  \n",
      "1     114.405425                  4.564259  Abnormal  \n",
      "2     105.985135                 -3.530317  Abnormal  \n",
      "3     101.868495                 11.211523  Abnormal  \n",
      "4     108.168725                  7.918501  Abnormal  \n"
     ]
    }
   ],
   "source": [
    "import pandas as pd\n",
    "\n",
    "data = pd.read_csv(\"ortopedik_hastaların_biyomekanik_özellikleri.csv\")\n",
    "print(data.head())"
   ]
  }
 ],
 "metadata": {
  "kernelspec": {
   "display_name": "Python 3",
   "language": "python",
   "name": "python3"
  },
  "language_info": {
   "codemirror_mode": {
    "name": "ipython",
    "version": 3
   },
   "file_extension": ".py",
   "mimetype": "text/x-python",
   "name": "python",
   "nbconvert_exporter": "python",
   "pygments_lexer": "ipython3",
   "version": "3.12.9"
  }
 },
 "nbformat": 4,
 "nbformat_minor": 2
}
